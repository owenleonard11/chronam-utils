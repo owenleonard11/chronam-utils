{
 "cells": [
  {
   "cell_type": "markdown",
   "metadata": {},
   "source": [
    "# XML Exploration\n",
    "This notebook shows the typical structure of a *Chronicling America* OCR XML file. The schema with annotations can be found at https://schema.ccs-gmbh.com/ALTO. The page being analyzed here is the frontpage of the New York Tribune from April 20, 1906, which can be viewed as a PDF [on the LOC website](https://tile.loc.gov/storage-services/service/ndnp/dlc/batch_dlc_canada_ver01/data/sn83030214/00175041412/1906042001/0418.pdf)."
   ]
  },
  {
   "cell_type": "markdown",
   "metadata": {},
   "source": [
    "## Imports"
   ]
  },
  {
   "cell_type": "code",
   "execution_count": 2,
   "metadata": {},
   "outputs": [],
   "source": [
    "from xml.etree import ElementTree as ET # for parsing XML\n",
    "from matplotlib import pyplot as plt    # for data visualization"
   ]
  },
  {
   "cell_type": "markdown",
   "metadata": {},
   "source": [
    "## Globals"
   ]
  },
  {
   "cell_type": "code",
   "execution_count": 3,
   "metadata": {},
   "outputs": [],
   "source": [
    "XML_PATH = './example_data/lccnsn830302141906-04-20ed-1seq-1.xml'\n",
    "root = ET.parse(XML_PATH).getroot()\n",
    "\n",
    "SCHEMA = '{http://schema.ccs-gmbh.com/ALTO}'"
   ]
  },
  {
   "cell_type": "markdown",
   "metadata": {},
   "source": [
    "## Metadata\n",
    "This group of cells reviews the metadata provided in the OCR XML file."
   ]
  },
  {
   "cell_type": "markdown",
   "metadata": {},
   "source": [
    "### Description\n",
    "The `Description` tag contains information about the OCR processing pipeline used to produce the data."
   ]
  },
  {
   "cell_type": "code",
   "execution_count": 4,
   "metadata": {},
   "outputs": [
    {
     "name": "stdout",
     "output_type": "stream",
     "text": [
      "OCR preprocessing software: CCS docWORKS\n",
      "OCR posprocessing software: ABBYY FineReader Engine\n"
     ]
    }
   ],
   "source": [
    "description = root.find(f'{SCHEMA}Description') or ET.Element('')\n",
    "print(f'OCR preprocessing software:', description[2][0][2][1].text)\n",
    "print(f'OCR posprocessing software:', description[2][1][0][1].text)"
   ]
  },
  {
   "cell_type": "markdown",
   "metadata": {},
   "source": [
    "### Styles\n",
    "The `Styles` tag has a number of `TextStyle` subtags, each of which are referenced by at least one `TextBlock` (see below). Each `TextStyle` tag includes attributes for font size, family, and style."
   ]
  },
  {
   "cell_type": "code",
   "execution_count": 5,
   "metadata": {},
   "outputs": [
    {
     "name": "stdout",
     "output_type": "stream",
     "text": [
      "Found 43 text styles in this document.\n"
     ]
    }
   ],
   "source": [
    "styles = root.find(f'{SCHEMA}Styles') or ET.Element('')\n",
    "print(f'Found {len(styles.findall(f\"{SCHEMA}TextStyle\"))} text styles in this document.')"
   ]
  },
  {
   "cell_type": "code",
   "execution_count": 6,
   "metadata": {},
   "outputs": [
    {
     "name": "stdout",
     "output_type": "stream",
     "text": [
      "Example text style: {'ID': 'TXT_0', 'FONTSIZE': '15', 'FONTFAMILY': 'Times New Roman', 'FONTSTYLE': 'bold'}\n"
     ]
    }
   ],
   "source": [
    "if (style := styles.find(f\"{SCHEMA}TextStyle\")) is not None:\n",
    "    print(f'Example text style: {style.attrib}')"
   ]
  },
  {
   "cell_type": "markdown",
   "metadata": {},
   "source": [
    "`Styles` also contains a smaller number of `ParagraphStyle` subtags, which describe alignment."
   ]
  },
  {
   "cell_type": "code",
   "execution_count": 7,
   "metadata": {},
   "outputs": [
    {
     "name": "stdout",
     "output_type": "stream",
     "text": [
      "Found 3 paragraph styles in this document.\n"
     ]
    }
   ],
   "source": [
    "print(f'Found {len(styles.findall(f\"{SCHEMA}ParagraphStyle\"))} paragraph styles in this document.')"
   ]
  },
  {
   "cell_type": "code",
   "execution_count": 8,
   "metadata": {},
   "outputs": [
    {
     "name": "stdout",
     "output_type": "stream",
     "text": [
      "Example paragraph style: {'ID': 'PAR_RIGHT', 'ALIGN': 'Right'}\n"
     ]
    }
   ],
   "source": [
    "if (style := styles.find(f\"{SCHEMA}ParagraphStyle\")) is not None:\n",
    "    print(f'Example paragraph style: {style.attrib}')"
   ]
  },
  {
   "cell_type": "markdown",
   "metadata": {},
   "source": [
    "### Layout Metadata\n",
    "The `Layout` tag contains both metadata about the layout and the actual text elements. Its only child is a single `Page` element that includes the height and width of the document:"
   ]
  },
  {
   "cell_type": "code",
   "execution_count": 9,
   "metadata": {},
   "outputs": [
    {
     "name": "stdout",
     "output_type": "stream",
     "text": [
      "Page attributes: {'ID': 'P1', 'PHYSICAL_IMG_NR': '1', 'HEIGHT': '26529', 'WIDTH': '19038'}\n"
     ]
    }
   ],
   "source": [
    "layout = root.find(f'{SCHEMA}Layout') or ET.Element('')\n",
    "page = layout.find(f'{SCHEMA}Page') or ET.Element('')\n",
    "print(f'Page attributes: {page.attrib}')"
   ]
  },
  {
   "cell_type": "markdown",
   "metadata": {},
   "source": [
    "`Page` first contains `Margin` tags, which describe the bounds of the `PrintSpace` (see below). As in the rest of the document, `HPOS` and `VPOS` refer respectively to the x and y coordinates of the top-left corner of the element."
   ]
  },
  {
   "cell_type": "code",
   "execution_count": 10,
   "metadata": {},
   "outputs": [
    {
     "name": "stdout",
     "output_type": "stream",
     "text": [
      "Top magin attributes: {'ID': 'P1_TM00001', 'HPOS': '0', 'VPOS': '0', 'WIDTH': '19035', 'HEIGHT': '392'}\n",
      "Bottom magin attributes: {'ID': 'P1_BM00001', 'HPOS': '0', 'VPOS': '26079', 'WIDTH': '19035', 'HEIGHT': '449'}\n",
      "Left magin attributes: {'ID': 'P1_LM00001', 'HPOS': '0', 'VPOS': '392', 'WIDTH': '411', 'HEIGHT': '25687'}\n",
      "Right magin attributes: {'ID': 'P1_RM00001', 'HPOS': '18534', 'VPOS': '392', 'WIDTH': '501', 'HEIGHT': '25687'}\n"
     ]
    }
   ],
   "source": [
    "for dir in (\"Top\", \"Bottom\", \"Left\", \"Right\"):\n",
    "    if (margin := page.find(f\"{SCHEMA}{dir}Margin\")) is not None:\n",
    "        print(f'{dir} magin attributes: {margin.attrib}')"
   ]
  },
  {
   "cell_type": "markdown",
   "metadata": {},
   "source": [
    "The `PrintSpace` tag describes the area within the margins and contains the OCR data itself. As expected, the `HPOS` matches the size of the left margin and the `VPOS` matches the size of the top margin."
   ]
  },
  {
   "cell_type": "code",
   "execution_count": 11,
   "metadata": {},
   "outputs": [
    {
     "name": "stdout",
     "output_type": "stream",
     "text": [
      "{'ID': 'P1_PS00001', 'HPOS': '411', 'VPOS': '392', 'WIDTH': '18123', 'HEIGHT': '25687'}\n"
     ]
    }
   ],
   "source": [
    "space = page.find(f'{SCHEMA}PrintSpace') or ET.Element('')\n",
    "print(space.attrib)"
   ]
  },
  {
   "cell_type": "markdown",
   "metadata": {},
   "source": [
    "## Text Data\n",
    "Within `Printspace` are various text elements containing the OCR data itself. Its immediate chidlren are `TextBlock` elements, which describe an axis-aligned bounding box containing zero or more lines of text."
   ]
  },
  {
   "cell_type": "code",
   "execution_count": 12,
   "metadata": {},
   "outputs": [
    {
     "name": "stdout",
     "output_type": "stream",
     "text": [
      "Found 69 text blocks in this document.\n"
     ]
    }
   ],
   "source": [
    "blocks = space.findall(f\"{SCHEMA}TextBlock\")\n",
    "print(f'Found {len(blocks)} text blocks in this document.')"
   ]
  },
  {
   "cell_type": "markdown",
   "metadata": {},
   "source": [
    "Some `TextBlock` tags do not contain text; these blocks have no children and no `STYLEREFS`."
   ]
  },
  {
   "cell_type": "code",
   "execution_count": 13,
   "metadata": {},
   "outputs": [
    {
     "name": "stdout",
     "output_type": "stream",
     "text": [
      "Example of empty TextBlock: {'ID': 'P1_TB00069', 'HPOS': '1672', 'VPOS': '392', 'WIDTH': '15345', 'HEIGHT': '1266'}\n"
     ]
    }
   ],
   "source": [
    "print(f'Example of empty TextBlock:', blocks[0].attrib)"
   ]
  },
  {
   "cell_type": "markdown",
   "metadata": {},
   "source": [
    "Most `TextBlock` tags have both a bounding box description and two `STYLEREFS`: one corresponing to a font style and one corresponding to a paragraph alignment."
   ]
  },
  {
   "cell_type": "code",
   "execution_count": 14,
   "metadata": {},
   "outputs": [
    {
     "name": "stdout",
     "output_type": "stream",
     "text": [
      "Example of typical TextBlock: {'ID': 'P1_TB00005', 'HPOS': '510', 'VPOS': '1682', 'WIDTH': '2263', 'HEIGHT': '241', 'STYLEREFS': 'TXT_5 PAR_LEFT'}\n"
     ]
    }
   ],
   "source": [
    "print(f'Example of typical TextBlock:', blocks[1].attrib)"
   ]
  },
  {
   "cell_type": "markdown",
   "metadata": {},
   "source": [
    "Nonempty text blocks contain one or more `TextLine` tags, each of which describes a bounding box containing a single line of text."
   ]
  },
  {
   "cell_type": "code",
   "execution_count": 15,
   "metadata": {},
   "outputs": [
    {
     "name": "stdout",
     "output_type": "stream",
     "text": [
      "Found 685 text lines in this document.\n"
     ]
    }
   ],
   "source": [
    "lines = []\n",
    "for block in blocks:\n",
    "    lines += block.findall(f'{SCHEMA}TextLine')\n",
    "\n",
    "print(f'Found {len(lines)} text lines in this document.')"
   ]
  },
  {
   "cell_type": "markdown",
   "metadata": {},
   "source": [
    "A bar chart of the number of lines in each text block reflects the structure of the page. We can see shorter articles on the left, and the two columns of a long article on the right."
   ]
  },
  {
   "cell_type": "code",
   "execution_count": 16,
   "metadata": {},
   "outputs": [
    {
     "data": {
      "image/png": "[encoded data removed]",
      "text/plain": [
       "<Figure size 640x480 with 1 Axes>"
      ]
     },
     "metadata": {},
     "output_type": "display_data"
    }
   ],
   "source": [
    "line_counts = [len(block.findall(f'{SCHEMA}TextLine')) for block in blocks]\n",
    "plt.bar(list(range(len(line_counts))), (line_counts))\n",
    "plt.show()"
   ]
  },
  {
   "cell_type": "markdown",
   "metadata": {},
   "source": [
    "Each `TextLine` contains strings, spaces, and possibly hyphens. `String` tags describe a bounding box, its text content, and information about OCR confidence:\n",
    "- `CONTENT` contains the text identified by OCR\n",
    "- `WC` varies between zero and one and represents the OCR confidence for the whole string\n",
    "- `CC` is a sequence of digits that vary between zero and nine, with each digit representing the OCR confidence for the corresponding character\n",
    "- `STYLEREFS` refer to a `TextStyle` tag (see above), mostly for bold and italics"
   ]
  },
  {
   "cell_type": "code",
   "execution_count": 17,
   "metadata": {},
   "outputs": [
    {
     "name": "stdout",
     "output_type": "stream",
     "text": [
      "Example of typical String:\n",
      "{'ID': 'P1_ST00108', 'HPOS': '1077', 'VPOS': '3652', 'WIDTH': '364', 'HEIGHT': '142', 'CONTENT': 'front', 'WC': '0.81', 'CC': '11116', 'STYLEREFS': 'TXT_6'}\n"
     ]
    }
   ],
   "source": [
    "strings = []\n",
    "for line in lines:\n",
    "    strings += line.findall(f'{SCHEMA}String')\n",
    "print('Example of typical String:', lines[5][2].attrib, sep='\\n')"
   ]
  },
  {
   "cell_type": "code",
   "execution_count": 18,
   "metadata": {},
   "outputs": [
    {
     "name": "stdout",
     "output_type": "stream",
     "text": [
      "Average OCR confidence across all 4841 strings: 0.8789444329683841\n"
     ]
    }
   ],
   "source": [
    "string_wc = []\n",
    "for string in strings:\n",
    "    string_wc.append(float(string.attrib['WC']))\n",
    "\n",
    "print(f'Average OCR confidence across all {len(string_wc)} strings:', sum(string_wc) / len(string_wc))"
   ]
  },
  {
   "cell_type": "code",
   "execution_count": 19,
   "metadata": {},
   "outputs": [
    {
     "data": {
      "image/png": "[encoded data removed]",
      "text/plain": [
       "<Figure size 640x480 with 1 Axes>"
      ]
     },
     "metadata": {},
     "output_type": "display_data"
    }
   ],
   "source": [
    "lengths = [0 for _ in range(17)]\n",
    "for string in strings:\n",
    "    lengths[len(string.attrib['CONTENT'])] += 1\n",
    "plt.bar(list(range(17)), lengths)\n",
    "plt.xlabel('string length')\n",
    "plt.ylabel('count')\n",
    "plt.show()"
   ]
  },
  {
   "cell_type": "code",
   "execution_count": 23,
   "metadata": {},
   "outputs": [
    {
     "data": {
      "image/png": "[encoded data removed]",
      "text/plain": [
       "<Figure size 640x480 with 1 Axes>"
      ]
     },
     "metadata": {},
     "output_type": "display_data"
    }
   ],
   "source": [
    "plt.scatter([len(string.attrib['CONTENT']) for string in strings], [float(string.attrib['WC']) for string in strings])\n",
    "plt.xlabel('string length')\n",
    "plt.ylabel('OCR confidence')\n",
    "plt.show()"
   ]
  },
  {
   "cell_type": "markdown",
   "metadata": {},
   "source": [
    "`SP` tags describe a bounding box corresponding to a space between strings."
   ]
  },
  {
   "cell_type": "code",
   "execution_count": 21,
   "metadata": {},
   "outputs": [
    {
     "name": "stdout",
     "output_type": "stream",
     "text": [
      "Example of typical space: {'ID': 'P1_SP00079', 'HPOS': '1020', 'VPOS': '3869', 'WIDTH': '57'}\n"
     ]
    }
   ],
   "source": [
    "print('Example of typical space:', lines[5][1].attrib)"
   ]
  },
  {
   "cell_type": "markdown",
   "metadata": {},
   "source": [
    "The other possible subtag of a `TextLine` is a `HYP`, representing a hyphenated word broken up between lines. Whenever a `HYP` tag appears, the last `String` child of the `TextLine` will have `SUBS_TYPE=\"HypPart1\"`and the first `String` child of the next `TextLine` will have `SUBS_TYPE=\"HypPart2\"`."
   ]
  },
  {
   "cell_type": "code",
   "execution_count": 22,
   "metadata": {},
   "outputs": [
    {
     "name": "stdout",
     "output_type": "stream",
     "text": [
      "End-of-line with hyphen:  \n",
      "{'ID': 'P1_ST00117', 'HPOS': '2910', 'VPOS': '3935', 'WIDTH': '241', 'HEIGHT': '85', 'CONTENT': 'ex', 'SUBS_TYPE': 'HypPart1', 'SUBS_CONTENT': 'exjUaf', 'WC': '0.97', 'CC': '011', 'STYLEREFS': 'TXT_6'}\n",
      "Start-of-line with hyphen:\n",
      "{'ID': 'P1_ST00118', 'HPOS': '449', 'VPOS': '4054', 'WIDTH': '359', 'HEIGHT': '250', 'CONTENT': 'jUaf', 'SUBS_TYPE': 'HypPart2', 'SUBS_CONTENT': 'exjUaf', 'WC': '0.49', 'CC': '0955', 'STYLEREFS': 'TXT_6'}\n"
     ]
    }
   ],
   "source": [
    "print(f'End-of-line with hyphen:  ', blocks[3][4][-2].attrib, sep='\\n')\n",
    "print(f'Start-of-line with hyphen:', blocks[3][5][0].attrib,  sep='\\n')"
   ]
  }
 ],
 "metadata": {
  "kernelspec": {
   "display_name": "base",
   "language": "python",
   "name": "python3"
  },
  "language_info": {
   "codemirror_mode": {
    "name": "ipython",
    "version": 3
   },
   "file_extension": ".py",
   "mimetype": "text/x-python",
   "name": "python",
   "nbconvert_exporter": "python",
   "pygments_lexer": "ipython3",
   "version": "3.9.7"
  }
 },
 "nbformat": 4,
 "nbformat_minor": 2
}
