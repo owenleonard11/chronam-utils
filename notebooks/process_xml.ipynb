{
 "cells": [
  {
   "cell_type": "markdown",
   "metadata": {},
   "source": [
    "# OCR XML Processing\n",
    "This notebook shows the process of extracting relevant OCR information from the XML files downloaded in `load_data.ipynb` and explored in `explore_xml.ipynb`. The idea is to get the information we want into a more convenient format. For each XML file, we produce two auxiliary files: a text file containing each `TextBlock` as a continuous string and a JSON file containing information about bounding boxes."
   ]
  },
  {
   "cell_type": "markdown",
   "metadata": {},
   "source": [
    "## Imports"
   ]
  },
  {
   "cell_type": "code",
   "execution_count": 14,
   "metadata": {},
   "outputs": [],
   "source": [
    "from xml.etree import ElementTree as ET # for parsing XML\n",
    "from matplotlib import pyplot as plt    # for data visualization\n",
    "import json"
   ]
  },
  {
   "cell_type": "markdown",
   "metadata": {},
   "source": [
    "## Globals"
   ]
  },
  {
   "cell_type": "code",
   "execution_count": 15,
   "metadata": {},
   "outputs": [],
   "source": [
    "DATA_PATH = './data/'\n",
    "XML_DIR = 'xml/'\n",
    "TXT_DIR = 'txt/'\n",
    "JSON_DIR = 'json/'\n",
    "\n",
    "EX_PATH = './example_data/'\n",
    "EX_XML_PATH = f'{EX_PATH}lccnsn830302141906-04-20ed-1seq-1.xml'\n",
    "\n",
    "SCHEMA = '{http://schema.ccs-gmbh.com/ALTO}'"
   ]
  },
  {
   "cell_type": "markdown",
   "metadata": {},
   "source": [
    "## XML Processing\n",
    "This cell defines a function that processes XML files into two files: a `.txt` file containing the OCR data and a `.json` file containing the block- and line-level bounding box data."
   ]
  },
  {
   "cell_type": "code",
   "execution_count": 24,
   "metadata": {},
   "outputs": [],
   "source": [
    "def process_xml(filename, txt_dir, json_dir):\n",
    "    block_root: ET.Element = ET.parse(EX_XML_PATH).getroot() or ET.Element('')\n",
    "    for subtag in ('Layout', 'Page', 'PrintSpace'):\n",
    "        block_root = block_root.find(f'{SCHEMA}{subtag}') or ET.Element('')\n",
    "\n",
    "    page_dict = {}\n",
    "\n",
    "    with open(f'{txt_dir}{filename}.txt', 'w') as tfp:\n",
    "        for block in block_root.findall(f'{SCHEMA}TextBlock'):\n",
    "            block_dict = {}\n",
    "            left,  upper = int(block.attrib['HPOS']), int(block.attrib['VPOS'])\n",
    "            right, lower = left + int(block.attrib[\"WIDTH\"]), upper + int(block.attrib['HEIGHT'])\n",
    "            block_dict['left'], block_dict['upper'], block_dict['right'], block_dict['lower'] = left, upper, right, lower\n",
    "            for line in block.findall(f'{SCHEMA}TextLine'):\n",
    "                line_dict = {}\n",
    "                left,  upper = int(line.attrib['HPOS']), int(line.attrib['VPOS'])\n",
    "                right, lower = left + int(line.attrib[\"WIDTH\"]), upper + int(line.attrib['HEIGHT'])\n",
    "                line_dict['left'], line_dict['upper'], line_dict['right'], line_dict['lower'] = left, upper, right, lower\n",
    "                for string in line.findall(f'{SCHEMA}String'):\n",
    "                    tfp.write(string.attrib['CONTENT'] + ' ')\n",
    "                    left,  upper = int(string.attrib['HPOS']), int(string.attrib['VPOS'])\n",
    "                    right, lower = left + int(string.attrib[\"WIDTH\"]), upper + int(string.attrib['HEIGHT'])\n",
    "                    line_dict[string.attrib['ID']] = {'content': string.attrib['CONTENT'], 'left': left, 'upper': upper, 'right': right, 'lower': lower}\n",
    "                tfp.write('\\n')\n",
    "                block_dict[line.attrib[\"ID\"]] = line_dict\n",
    "            tfp.write('\\n')\n",
    "            page_dict[block.attrib[\"ID\"]] = block_dict\n",
    "\n",
    "    with open(f'{json_dir}{filename}.json', 'w') as jfp:\n",
    "        json.dump(page_dict, jfp)\n",
    "\n",
    "process_xml('example', './example_data/', './example_data/')"
   ]
  },
  {
   "cell_type": "code",
   "execution_count": null,
   "metadata": {},
   "outputs": [],
   "source": []
  }
 ],
 "metadata": {
  "kernelspec": {
   "display_name": "env",
   "language": "python",
   "name": "python3"
  },
  "language_info": {
   "codemirror_mode": {
    "name": "ipython",
    "version": 3
   },
   "file_extension": ".py",
   "mimetype": "text/x-python",
   "name": "python",
   "nbconvert_exporter": "python",
   "pygments_lexer": "ipython3",
   "version": "3.9.7"
  }
 },
 "nbformat": 4,
 "nbformat_minor": 2
}
