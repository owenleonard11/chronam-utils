{
 "cells": [
  {
   "cell_type": "markdown",
   "metadata": {
    "vscode": {
     "languageId": "plaintext"
    }
   },
   "source": [
    "# quickstart.ipynb\n",
    "This notebook demonstrates the basics of using Generating Chronicling to query and download from the [Chronicling America database](https://chroniclingamerica.loc.gov/) of historical newspapers. For a more advanced demonstration, see `usage.ipynb`. For an installation guide and a more detailed explanation of the code, see `README.md`."
   ]
  },
  {
   "cell_type": "markdown",
   "metadata": {},
   "source": [
    "## Getting Started\n",
    "Import the `query`, `limit`, and `download`, and `process` modules and initialize `ChronAmRateLimiter` object."
   ]
  },
  {
   "cell_type": "code",
   "execution_count": 1,
   "metadata": {},
   "outputs": [],
   "source": [
    "%reload_ext autoreload\n",
    "%autoreload 2\n",
    "\n",
    "from modules.query import *\n",
    "from modules.limit import *\n",
    "from modules.download import *\n",
    "from modules.process import *\n",
    "\n",
    "limiter = ChronAmRateLimiter()"
   ]
  },
  {
   "cell_type": "markdown",
   "metadata": {},
   "source": [
    "## Making a Query\n",
    "Initialize a `ChronAmQuery` object from a URL and retrieve the corresponding IDs. The URL used here comes from a search for Massachusetts newspapers published between 1900 and 1910 and containing the word \"generative.\""
   ]
  },
  {
   "cell_type": "code",
   "execution_count": 2,
   "metadata": {},
   "outputs": [
    {
     "name": "stdout",
     "output_type": "stream",
     "text": [
      "ChronAmBasicQuery(\n",
      "\tdescription: \"140424916262672\"\n",
      "\tstate: Massachusetts\n",
      "\tdate1: 1900-01-01\n",
      "\tdate2: 1910-12-31\n",
      "\tproxtext: ['generative']\n",
      "{})\n"
     ]
    }
   ],
   "source": [
    "query = ChronAmBasicQuery.from_url('https://chroniclingamerica.loc.gov/search/pages/results/?state=Massachusetts&date1=1900&date2=1910&proxtext=generative&x=23&y=9&dateFilterType=yearRange&rows=20&searchType=basic')\n",
    "print(query)"
   ]
  },
  {
   "cell_type": "markdown",
   "metadata": {},
   "source": [
    "`retrieve_all()` will retrieve 50 results from Chronicling America search"
   ]
  },
  {
   "cell_type": "code",
   "execution_count": 3,
   "metadata": {},
   "outputs": [
    {
     "name": "stdout",
     "output_type": "stream",
     "text": [
      "INFO: found 21072 results for query 140424916262672\n",
      "INFO: updated query \"140424916262672\" with 50 items.\n"
     ]
    },
    {
     "data": {
      "text/plain": [
       "50"
      ]
     },
     "execution_count": 3,
     "metadata": {},
     "output_type": "execute_result"
    }
   ],
   "source": [
    "query.retrieve_all(50, limiter)"
   ]
  },
  {
   "cell_type": "markdown",
   "metadata": {},
   "source": [
    "now we can view some of the retrieved IDs:"
   ]
  },
  {
   "cell_type": "code",
   "execution_count": 4,
   "metadata": {},
   "outputs": [
    {
     "data": {
      "text/plain": [
       "['sn86086481/1903-09-11/ed-1/seq-9/',\n",
       " 'sn83020847/1902-04-18/ed-1/seq-2/',\n",
       " 'sn86086481/1902-12-25/ed-1/seq-5/',\n",
       " 'sn83020847/1906-11-22/ed-1/seq-1/',\n",
       " 'sn86086481/1900-03-06/ed-1/seq-7/']"
      ]
     },
     "execution_count": 4,
     "metadata": {},
     "output_type": "execute_result"
    }
   ],
   "source": [
    "list(query.results.values())[:5]"
   ]
  },
  {
   "cell_type": "markdown",
   "metadata": {},
   "source": [
    "`dump_txt()` will write the results to a text file—make sure that the `data` directory exists before running"
   ]
  },
  {
   "cell_type": "code",
   "execution_count": 5,
   "metadata": {},
   "outputs": [
    {
     "data": {
      "text/plain": [
       "50"
      ]
     },
     "execution_count": 5,
     "metadata": {},
     "output_type": "execute_result"
    }
   ],
   "source": [
    "query.dump_txt('data/query.txt')"
   ]
  },
  {
   "cell_type": "markdown",
   "metadata": {},
   "source": [
    "## Downloading Files\n",
    "Downloads TXT files associated with the results of the query—make sure that the `data/files` directory exists before running"
   ]
  },
  {
   "cell_type": "code",
   "execution_count": 6,
   "metadata": {},
   "outputs": [
    {
     "data": {
      "text/plain": [
       "['sn86086481/1903-09-11/ed-1/seq-9/',\n",
       " 'sn83020847/1902-04-18/ed-1/seq-2/',\n",
       " 'sn86086481/1902-12-25/ed-1/seq-5/',\n",
       " 'sn83020847/1906-11-22/ed-1/seq-1/',\n",
       " 'sn86086481/1900-03-06/ed-1/seq-7/']"
      ]
     },
     "execution_count": 6,
     "metadata": {},
     "output_type": "execute_result"
    }
   ],
   "source": [
    "loader = ChronAmDownloader.from_file('data/query.txt', 'data/files/', limiter)\n",
    "list(loader.ids.keys())[:5]"
   ]
  },
  {
   "cell_type": "markdown",
   "metadata": {},
   "source": [
    "`download_all()` will retrieve the text files for the IDs in `loader`"
   ]
  },
  {
   "cell_type": "code",
   "execution_count": 7,
   "metadata": {},
   "outputs": [
    {
     "name": "stdout",
     "output_type": "stream",
     "text": [
      "INFO: 50 files of type \"txt\" already present; 0 not found.\n",
      "INFO: 0 downloaded, 0 failed, 50 skipped.\n"
     ]
    },
    {
     "data": {
      "text/plain": [
       "(0, 0, 50)"
      ]
     },
     "execution_count": 7,
     "metadata": {},
     "output_type": "execute_result"
    }
   ],
   "source": [
    "loader.download_all('txt')"
   ]
  },
  {
   "cell_type": "code",
   "execution_count": 8,
   "metadata": {},
   "outputs": [
    {
     "data": {
      "text/plain": [
       "['data/files/sn86086481/1903-09-11/ed-1/seq-9.txt',\n",
       " 'data/files/sn83020847/1902-04-18/ed-1/seq-2.txt',\n",
       " 'data/files/sn86086481/1902-12-25/ed-1/seq-5.txt',\n",
       " 'data/files/sn83020847/1906-11-22/ed-1/seq-1.txt',\n",
       " 'data/files/sn86086481/1900-03-06/ed-1/seq-7.txt']"
      ]
     },
     "execution_count": 8,
     "metadata": {},
     "output_type": "execute_result"
    }
   ],
   "source": [
    "loader.paths[:5]"
   ]
  },
  {
   "cell_type": "markdown",
   "metadata": {},
   "source": [
    "now we can read the downloaded text files; this cell will print the first five lines of the first files"
   ]
  },
  {
   "cell_type": "code",
   "execution_count": 9,
   "metadata": {},
   "outputs": [
    {
     "name": "stdout",
     "output_type": "stream",
     "text": [
      "• Jr* * ^SyX.^^O^\n",
      "’/\\K\n",
      "^Ep-\n",
      "The monkey thought that while the South African marksmen were at\n",
      "lunch he would try his hand at the target. Can you find the two friends he\n",
      "hit?\n",
      "In yesterday's puzzle, by using the upper part of the picture as base,\n",
      "Helen can be found toward the right, her features being formed by the speaker.\n",
      "PENSION LISI'\n",
      "UNDER MILLION\n"
     ]
    }
   ],
   "source": [
    "with open(loader.paths[0], 'r') as fp:\n",
    "    for i in range(10):\n",
    "        print(fp.readline(), end='')"
   ]
  },
  {
   "cell_type": "markdown",
   "metadata": {},
   "source": [
    "## Processing XML Files"
   ]
  },
  {
   "cell_type": "markdown",
   "metadata": {},
   "source": [
    "Use `download_all()` again to download the `xml` files for our query:"
   ]
  },
  {
   "cell_type": "code",
   "execution_count": 10,
   "metadata": {},
   "outputs": [
    {
     "name": "stdout",
     "output_type": "stream",
     "text": [
      "INFO: 50 files of type \"xml\" already present; 0 not found.\n",
      "INFO: 0 downloaded, 0 failed, 50 skipped.\n"
     ]
    },
    {
     "data": {
      "text/plain": [
       "(0, 0, 50)"
      ]
     },
     "execution_count": 10,
     "metadata": {},
     "output_type": "execute_result"
    }
   ],
   "source": [
    "loader.download_all('xml')"
   ]
  },
  {
   "cell_type": "markdown",
   "metadata": {},
   "source": [
    "Initialize the `ChronAmXMLProcessor` object from the downloaded files:"
   ]
  },
  {
   "cell_type": "code",
   "execution_count": 11,
   "metadata": {},
   "outputs": [
    {
     "name": "stdout",
     "output_type": "stream",
     "text": [
      "INFO: found 50 XML files in directory data/files\n"
     ]
    }
   ],
   "source": [
    "processor = ChronAmXMLProcessor('data/files')"
   ]
  },
  {
   "cell_type": "markdown",
   "metadata": {},
   "source": [
    "Use the `process_xml()` method to process a single XML file:"
   ]
  },
  {
   "cell_type": "code",
   "execution_count": 12,
   "metadata": {},
   "outputs": [
    {
     "name": "stdout",
     "output_type": "stream",
     "text": [
      "data/files/sn83020847/1902-04-18/ed-1/seq-2.json\n"
     ]
    }
   ],
   "source": [
    "json_path = processor.process_xml(processor.files[0])\n",
    "print(json_path)"
   ]
  },
  {
   "cell_type": "markdown",
   "metadata": {},
   "source": [
    "Check out the first 10 lines of the resulting JSON file:"
   ]
  },
  {
   "cell_type": "code",
   "execution_count": 13,
   "metadata": {},
   "outputs": [
    {
     "name": "stdout",
     "output_type": "stream",
     "text": [
      "{\n",
      "    \"P2_TB00009\": {\n",
      "        \"P2_TL01156\": {\n",
      "            \"P2_ST08072\": {\n",
      "                \"content\": \"2\"\n",
      "            }\n",
      "        }\n",
      "    },\n",
      "    \"P2_TB00001\": {\n",
      "        \"P2_TL00001\": {\n"
     ]
    }
   ],
   "source": [
    "with open(json_path, 'r') as fp:\n",
    "    for i in range(10):\n",
    "        print(fp.readline(), end='')"
   ]
  },
  {
   "cell_type": "markdown",
   "metadata": {},
   "source": [
    "Use `process_all()` to process the rest of the XML files:"
   ]
  },
  {
   "cell_type": "code",
   "execution_count": 25,
   "metadata": {},
   "outputs": [
    {
     "data": {
      "text/plain": [
       "['data/files/sn83020847/1902-04-18/ed-1/seq-2.json',\n",
       " 'data/files/sn83020847/1910-12-29/ed-1/seq-6.json',\n",
       " 'data/files/sn83020847/1903-09-18/ed-1/seq-11.json',\n",
       " 'data/files/sn83020847/1906-11-22/ed-1/seq-1.json',\n",
       " 'data/files/sn86086481/1900-03-06/ed-1/seq-7.json']"
      ]
     },
     "execution_count": 25,
     "metadata": {},
     "output_type": "execute_result"
    }
   ],
   "source": [
    "json_paths = processor.process_all()\n",
    "json_paths[:5]"
   ]
  },
  {
   "cell_type": "markdown",
   "metadata": {},
   "source": [
    "## Clipping Text\n",
    "> **NOTE**: Working with images requires additional installation and setup. See the **Download & Installation** section in `README.md`."
   ]
  },
  {
   "cell_type": "markdown",
   "metadata": {},
   "source": [
    "First, we need to download the JP2 files:"
   ]
  },
  {
   "cell_type": "code",
   "execution_count": 23,
   "metadata": {},
   "outputs": [
    {
     "name": "stdout",
     "output_type": "stream",
     "text": [
      "INFO: 49 files of type \"jp2\" already present; 1 not found.\n",
      "INFO: 1 downloaded, 0 failed, 49 skipped.\n"
     ]
    },
    {
     "data": {
      "text/plain": [
       "(1, 0, 49)"
      ]
     },
     "execution_count": 23,
     "metadata": {},
     "output_type": "execute_result"
    }
   ],
   "source": [
    "loader.download_all('jp2')"
   ]
  },
  {
   "cell_type": "markdown",
   "metadata": {},
   "source": [
    "Next, we import the `clip` module and intialize a `ChronAmJP2Clipper` from the processed JSON:"
   ]
  },
  {
   "cell_type": "code",
   "execution_count": 27,
   "metadata": {},
   "outputs": [
    {
     "data": {
      "text/plain": [
       "['data/files/sn83020847/1902-04-18/ed-1/seq-2',\n",
       " 'data/files/sn83020847/1910-12-29/ed-1/seq-6',\n",
       " 'data/files/sn83020847/1903-09-18/ed-1/seq-11',\n",
       " 'data/files/sn83020847/1906-11-22/ed-1/seq-1',\n",
       " 'data/files/sn86086481/1900-03-06/ed-1/seq-7']"
      ]
     },
     "execution_count": 27,
     "metadata": {},
     "output_type": "execute_result"
    }
   ],
   "source": [
    "from modules.clip import *\n",
    "\n",
    "clipper = ChronAmJP2Clipper('data/files')\n",
    "clipper.files[:5]"
   ]
  },
  {
   "cell_type": "markdown",
   "metadata": {},
   "source": [
    "To clip images, we need to rerun the XML processor with instructions to extract bounding box data. Notice that we also specify to overwrite the previous data:"
   ]
  },
  {
   "cell_type": "code",
   "execution_count": 43,
   "metadata": {},
   "outputs": [
    {
     "data": {
      "text/plain": [
       "['data/files/sn83020847/1902-04-18/ed-1/seq-2.json',\n",
       " 'data/files/sn83020847/1910-12-29/ed-1/seq-6.json',\n",
       " 'data/files/sn83020847/1903-09-18/ed-1/seq-11.json',\n",
       " 'data/files/sn83020847/1906-11-22/ed-1/seq-1.json',\n",
       " 'data/files/sn86086481/1900-03-06/ed-1/seq-7.json']"
      ]
     },
     "execution_count": 43,
     "metadata": {},
     "output_type": "execute_result"
    }
   ],
   "source": [
    "json_paths = processor.process_all(include_bounding_box=True, overwrite=True)\n",
    "json_paths[:5]"
   ]
  },
  {
   "cell_type": "markdown",
   "metadata": {},
   "source": [
    "Now we can clip out all of the lines from the first image:"
   ]
  },
  {
   "cell_type": "code",
   "execution_count": 58,
   "metadata": {},
   "outputs": [
    {
     "name": "stdout",
     "output_type": "stream",
     "text": [
      "INFO: saved 1156 clippings to data/files/sn83020847/1902-04-18/ed-1/clippings-line.\n"
     ]
    }
   ],
   "source": [
    "clipped, clippings_dir = clipper.clip(clipper.files[0], 'line')"
   ]
  },
  {
   "cell_type": "markdown",
   "metadata": {},
   "source": [
    "Now let's check out some examples of the clippings. Running this cell will produce a randomly generated \"poem.\""
   ]
  },
  {
   "cell_type": "code",
   "execution_count": 71,
   "metadata": {},
   "outputs": [
    {
     "data": {
      "image/png": "[encoded data removed]",
      "text/plain": [
       "<IPython.core.display.Image object>"
      ]
     },
     "metadata": {},
     "output_type": "display_data"
    },
    {
     "data": {
      "image/png": "[encoded data removed]",
      "text/plain": [
       "<IPython.core.display.Image object>"
      ]
     },
     "metadata": {},
     "output_type": "display_data"
    },
    {
     "data": {
      "image/png": "[encoded data removed]",
      "text/plain": [
       "<IPython.core.display.Image object>"
      ]
     },
     "metadata": {},
     "output_type": "display_data"
    },
    {
     "data": {
      "image/png": "[encoded data removed]",
      "text/plain": [
       "<IPython.core.display.Image object>"
      ]
     },
     "metadata": {},
     "output_type": "display_data"
    },
    {
     "data": {
      "image/png": "[encoded data removed]",
      "text/plain": [
       "<IPython.core.display.Image object>"
      ]
     },
     "metadata": {},
     "output_type": "display_data"
    }
   ],
   "source": [
    "from IPython.display import display, Image\n",
    "from random import sample\n",
    "from os import listdir, path\n",
    "\n",
    "# randomly sample and display five lines\n",
    "clippings = [path.join(clippings_dir, filename) for filename in listdir(clippings_dir)]\n",
    "for clipping in sample(clippings, 5):\n",
    "    display(Image(filename=clipping))"
   ]
  }
 ],
 "metadata": {
  "kernelspec": {
   "display_name": "env",
   "language": "python",
   "name": "python3"
  },
  "language_info": {
   "codemirror_mode": {
    "name": "ipython",
    "version": 3
   },
   "file_extension": ".py",
   "mimetype": "text/x-python",
   "name": "python",
   "nbconvert_exporter": "python",
   "pygments_lexer": "ipython3",
   "version": "3.9.7"
  }
 },
 "nbformat": 4,
 "nbformat_minor": 2
}
