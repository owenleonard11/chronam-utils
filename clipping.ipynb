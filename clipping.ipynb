{
 "cells": [
  {
   "cell_type": "code",
   "execution_count": 2,
   "metadata": {},
   "outputs": [],
   "source": [
    "from PIL import Image\n",
    "image = Image.open('./example_data/service-ndnp-dlc-batch_dlc_canada_ver01-data-sn83030214-00175041412-1906042001-0418.jp2')"
   ]
  },
  {
   "cell_type": "code",
   "execution_count": 18,
   "metadata": {},
   "outputs": [],
   "source": [
    "ex_json = {\n",
    "    \"HPOS\": \"12482\",\n",
    "    \"VPOS\": \"2197\",\n",
    "    \"WIDTH\": \"5290\",\n",
    "    \"HEIGHT\": \"416\"\n",
    "}\n",
    "\n",
    "left = int(ex_json[\"HPOS\"]) // 3\n",
    "upper = int(ex_json[\"VPOS\"]) // 3\n",
    "right = left + int(ex_json[\"WIDTH\"]) // 3\n",
    "lower = upper + int(ex_json[\"HEIGHT\"]) // 3\n",
    "\n",
    "image.crop((left, upper, right, lower)).show()"
   ]
  },
  {
   "cell_type": "code",
   "execution_count": 36,
   "metadata": {},
   "outputs": [],
   "source": [
    "import json\n",
    "with open('./example_data/example.json', 'r') as jfp:\n",
    "    data: dict = json.load(jfp)\n",
    "\n",
    "for block_id, block_dict in data.items():\n",
    "    box = tuple(coord // 3 for coord in (block_dict['left'], block_dict['upper'], block_dict['right'], block_dict['lower']))\n",
    "    image.crop(box).save(f'./example_data/clippings/{block_id}.png')"
   ]
  }
 ],
 "metadata": {
  "kernelspec": {
   "display_name": "env",
   "language": "python",
   "name": "python3"
  },
  "language_info": {
   "codemirror_mode": {
    "name": "ipython",
    "version": 3
   },
   "file_extension": ".py",
   "mimetype": "text/x-python",
   "name": "python",
   "nbconvert_exporter": "python",
   "pygments_lexer": "ipython3",
   "version": "3.9.7"
  }
 },
 "nbformat": 4,
 "nbformat_minor": 2
}
