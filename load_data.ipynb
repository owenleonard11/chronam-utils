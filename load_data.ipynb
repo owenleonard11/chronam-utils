{
 "cells": [
  {
   "cell_type": "markdown",
   "metadata": {},
   "source": [
    "# Data Loading\n",
    "This notebook shows the process of using the Chronicling America API to search for a selection of newspapers and download the XML OCR data."
   ]
  },
  {
   "cell_type": "markdown",
   "metadata": {},
   "source": [
    "## Imports"
   ]
  },
  {
   "cell_type": "code",
   "execution_count": 2,
   "metadata": {},
   "outputs": [],
   "source": [
    "import requests # for retrieving web data\n",
    "from xml.etree import ElementTree as ET # for parsing XML\n",
    "import os # for file handling\n",
    "\n",
    "import time # for respecting rate limits\n",
    "\n",
    "import time\n",
    "from threading import Lock\n",
    "from concurrent import futures "
   ]
  },
  {
   "cell_type": "markdown",
   "metadata": {},
   "source": [
    "## Globals and Config\n",
    "This cell defines global variables and notebook-wide configurations."
   ]
  },
  {
   "cell_type": "code",
   "execution_count": 3,
   "metadata": {},
   "outputs": [],
   "source": [
    "verbose = True # set this flag for detailed output from cells.\n",
    "\n",
    "DATA_DIR = './data/'   # path to data directory\n",
    "TXT_PATH = 'pages.txt' # path to text file to hold page IDs\n",
    "XML_DIR = 'xml/'       # path to directory within data directory to store XML files\n",
    "\n",
    "DATA_URL   = 'https://chroniclingamerica.loc.gov/' # path for file downloads\n",
    "SEARCH_URL = 'https://chroniclingamerica.loc.gov/search/pages/results/' # path for id search"
   ]
  },
  {
   "cell_type": "markdown",
   "metadata": {},
   "source": [
    "## Finding Pages\n",
    "This cell uses the [Chronicling America API](https://chroniclingamerica.loc.gov/about/api/) to find relevant pages from the collection. The example below retrieves a JSON summary of the first 1000 results for New York newspapers containing the word \"California\" between 1900 and 1914 and stores the ID of each page in a text file."
   ]
  },
  {
   "cell_type": "code",
   "execution_count": null,
   "metadata": {},
   "outputs": [],
   "source": [
    "options = {\n",
    "    \"state\": \"New York\",\n",
    "\n",
    "    \"dateFilterType\" : \"yearRange\",\n",
    "    \"date1\"          : \"1900\",\n",
    "    \"date2\"          : \"1914\",\n",
    "\n",
    "    \"ortext\"     : \"\",\n",
    "    \"andtext\"    : \"California\",\n",
    "    \"phrasetext\" : \"\"\n",
    "}\n",
    "n_pages = 50 # 1000 items at 20 items per response\n",
    "\n",
    "base_qstr = '&'.join(f'{key}={value.replace(\" \", \"+\")}' for key, value in options.items()) + '&format=json'\n",
    "\n",
    "with open(DATA_DIR + TXT_PATH, 'w') as fp:\n",
    "    for n in range(1, n_pages + 1):\n",
    "        response = requests.get(f'{SEARCH_URL}?{base_qstr}&page={n}').json()\n",
    "        if verbose:\n",
    "            print(f'received response for page {n}, containing items {response[\"startIndex\"]}-{response[\"startIndex\"] + 20}')\n",
    "        for item in response['items']:\n",
    "            fp.write(item[\"id\"] + '\\n')"
   ]
  },
  {
   "cell_type": "markdown",
   "metadata": {},
   "source": [
    "## Collecting XML\n",
    "This cell retrieves OCR XML files from list of page IDs generated above."
   ]
  },
  {
   "cell_type": "code",
   "execution_count": 15,
   "metadata": {},
   "outputs": [
    {
     "name": "stdout",
     "output_type": "stream",
     "text": [
      "Downloading xml for 1000 page IDs\n",
      "ERROR: Rate limit exceeded for https://chroniclingamerica.loc.gov//lccn/sn83030193/1914-11-19/ed-1/seq-4/ocr.xml\n",
      "ERROR: Rate limit exceeded for https://chroniclingamerica.loc.gov//lccn/sn83030193/1914-10-05/ed-1/seq-9/ocr.xml\n",
      "ERROR: Rate limit exceeded for https://chroniclingamerica.loc.gov//lccn/sn83030193/1914-10-23/ed-1/seq-19/ocr.xml\n",
      "ERROR: Rate limit exceeded for https://chroniclingamerica.loc.gov//lccn/sn83030193/1914-06-01/ed-1/seq-7/ocr.xml\n",
      "ERROR: Rate limit exceeded for https://chroniclingamerica.loc.gov//lccn/sn83030193/1913-10-06/ed-1/seq-11/ocr.xml\n",
      "ERROR: Rate limit exceeded for https://chroniclingamerica.loc.gov//lccn/sn83030193/1912-07-02/ed-1/seq-2/ocr.xml\n",
      "ERROR: Rate limit exceeded for https://chroniclingamerica.loc.gov//lccn/sn83030193/1912-08-13/ed-1/seq-5/ocr.xml\n",
      "ERROR: Rate limit exceeded for https://chroniclingamerica.loc.gov//lccn/sn83030193/1912-11-12/ed-1/seq-11/ocr.xml\n",
      "ERROR: Rate limit exceeded for https://chroniclingamerica.loc.gov//lccn/sn83030193/1912-10-23/ed-1/seq-7/ocr.xml\n",
      "ERROR: Rate limit exceeded for https://chroniclingamerica.loc.gov//lccn/sn83030193/1914-04-28/ed-1/seq-14/ocr.xml\n",
      "ERROR: Rate limit exceeded for https://chroniclingamerica.loc.gov//lccn/sn83030193/1913-04-26/ed-1/seq-10/ocr.xml\n",
      "ERROR: Rate limit exceeded for https://chroniclingamerica.loc.gov//lccn/sn83030193/1914-05-12/ed-1/seq-16/ocr.xml\n",
      "ERROR: Rate limit exceeded for https://chroniclingamerica.loc.gov//lccn/sn83030193/1914-04-23/ed-1/seq-4/ocr.xml\n",
      "ERROR: Rate limit exceeded for https://chroniclingamerica.loc.gov//lccn/sn83030193/1913-11-25/ed-1/seq-8/ocr.xml\n",
      "ERROR: Rate limit exceeded for https://chroniclingamerica.loc.gov//lccn/sn83030193/1914-01-26/ed-1/seq-2/ocr.xml\n",
      "ERROR: Rate limit exceeded for https://chroniclingamerica.loc.gov//lccn/sn83030193/1913-03-05/ed-1/seq-15/ocr.xml\n",
      "ERROR: Rate limit exceeded for https://chroniclingamerica.loc.gov//lccn/sn83030193/1913-12-19/ed-1/seq-23/ocr.xml\n",
      "ERROR: Rate limit exceeded for https://chroniclingamerica.loc.gov//lccn/sn83030193/1911-04-27/ed-1/seq-6/ocr.xml\n",
      "Rate limit reached; waiting 59.46 seconds\n",
      "ERROR: Rate limit exceeded for https://chroniclingamerica.loc.gov//lccn/sn83030193/1912-10-29/ed-1/seq-11/ocr.xml\n",
      "Rate limit reached; waiting 59.46 seconds\n",
      "ERROR: Rate limit exceeded for https://chroniclingamerica.loc.gov//lccn/sn83030193/1912-12-17/ed-1/seq-13/ocr.xml\n",
      "Rate limit reached; waiting 59.42 seconds\n",
      "ERROR: Rate limit exceeded for https://chroniclingamerica.loc.gov//lccn/sn83030193/1906-04-16/ed-1/seq-4/ocr.xml\n",
      "Rate limit reached; waiting 59.40 seconds\n"
     ]
    },
    {
     "ename": "KeyboardInterrupt",
     "evalue": "",
     "output_type": "error",
     "traceback": [
      "\u001b[0;31m---------------------------------------------------------------------------\u001b[0m",
      "\u001b[0;31mKeyboardInterrupt\u001b[0m                         Traceback (most recent call last)",
      "\u001b[0;32m/tmp/ipykernel_34084/1807834454.py\u001b[0m in \u001b[0;36mdownload_many_xml\u001b[0;34m(ids, max_workers)\u001b[0m\n\u001b[1;32m     76\u001b[0m     \u001b[0;32mwith\u001b[0m \u001b[0mfutures\u001b[0m\u001b[0;34m.\u001b[0m\u001b[0mThreadPoolExecutor\u001b[0m\u001b[0;34m(\u001b[0m\u001b[0mmax_workers\u001b[0m\u001b[0;34m)\u001b[0m \u001b[0;32mas\u001b[0m \u001b[0mexec\u001b[0m\u001b[0;34m:\u001b[0m\u001b[0;34m\u001b[0m\u001b[0;34m\u001b[0m\u001b[0m\n\u001b[0;32m---> 77\u001b[0;31m         \u001b[0moutcomes\u001b[0m \u001b[0;34m=\u001b[0m \u001b[0mlist\u001b[0m\u001b[0;34m(\u001b[0m\u001b[0mexec\u001b[0m\u001b[0;34m.\u001b[0m\u001b[0mmap\u001b[0m\u001b[0;34m(\u001b[0m\u001b[0mdownload_single\u001b[0m\u001b[0;34m,\u001b[0m \u001b[0mids\u001b[0m\u001b[0;34m)\u001b[0m\u001b[0;34m)\u001b[0m\u001b[0;34m\u001b[0m\u001b[0;34m\u001b[0m\u001b[0m\n\u001b[0m\u001b[1;32m     78\u001b[0m \u001b[0;34m\u001b[0m\u001b[0m\n",
      "\u001b[0;32m~/anaconda3/lib/python3.9/concurrent/futures/_base.py\u001b[0m in \u001b[0;36mresult_iterator\u001b[0;34m()\u001b[0m\n\u001b[1;32m    607\u001b[0m                     \u001b[0;32mif\u001b[0m \u001b[0mtimeout\u001b[0m \u001b[0;32mis\u001b[0m \u001b[0;32mNone\u001b[0m\u001b[0;34m:\u001b[0m\u001b[0;34m\u001b[0m\u001b[0;34m\u001b[0m\u001b[0m\n\u001b[0;32m--> 608\u001b[0;31m                         \u001b[0;32myield\u001b[0m \u001b[0mfs\u001b[0m\u001b[0;34m.\u001b[0m\u001b[0mpop\u001b[0m\u001b[0;34m(\u001b[0m\u001b[0;34m)\u001b[0m\u001b[0;34m.\u001b[0m\u001b[0mresult\u001b[0m\u001b[0;34m(\u001b[0m\u001b[0;34m)\u001b[0m\u001b[0;34m\u001b[0m\u001b[0;34m\u001b[0m\u001b[0m\n\u001b[0m\u001b[1;32m    609\u001b[0m                     \u001b[0;32melse\u001b[0m\u001b[0;34m:\u001b[0m\u001b[0;34m\u001b[0m\u001b[0;34m\u001b[0m\u001b[0m\n",
      "\u001b[0;32m~/anaconda3/lib/python3.9/concurrent/futures/_base.py\u001b[0m in \u001b[0;36mresult\u001b[0;34m(self, timeout)\u001b[0m\n\u001b[1;32m    439\u001b[0m \u001b[0;34m\u001b[0m\u001b[0m\n\u001b[0;32m--> 440\u001b[0;31m                 \u001b[0mself\u001b[0m\u001b[0;34m.\u001b[0m\u001b[0m_condition\u001b[0m\u001b[0;34m.\u001b[0m\u001b[0mwait\u001b[0m\u001b[0;34m(\u001b[0m\u001b[0mtimeout\u001b[0m\u001b[0;34m)\u001b[0m\u001b[0;34m\u001b[0m\u001b[0;34m\u001b[0m\u001b[0m\n\u001b[0m\u001b[1;32m    441\u001b[0m \u001b[0;34m\u001b[0m\u001b[0m\n",
      "\u001b[0;32m~/anaconda3/lib/python3.9/threading.py\u001b[0m in \u001b[0;36mwait\u001b[0;34m(self, timeout)\u001b[0m\n\u001b[1;32m    311\u001b[0m             \u001b[0;32mif\u001b[0m \u001b[0mtimeout\u001b[0m \u001b[0;32mis\u001b[0m \u001b[0;32mNone\u001b[0m\u001b[0;34m:\u001b[0m\u001b[0;34m\u001b[0m\u001b[0;34m\u001b[0m\u001b[0m\n\u001b[0;32m--> 312\u001b[0;31m                 \u001b[0mwaiter\u001b[0m\u001b[0;34m.\u001b[0m\u001b[0macquire\u001b[0m\u001b[0;34m(\u001b[0m\u001b[0;34m)\u001b[0m\u001b[0;34m\u001b[0m\u001b[0;34m\u001b[0m\u001b[0m\n\u001b[0m\u001b[1;32m    313\u001b[0m                 \u001b[0mgotit\u001b[0m \u001b[0;34m=\u001b[0m \u001b[0;32mTrue\u001b[0m\u001b[0;34m\u001b[0m\u001b[0;34m\u001b[0m\u001b[0m\n",
      "\u001b[0;31mKeyboardInterrupt\u001b[0m: ",
      "\nDuring handling of the above exception, another exception occurred:\n",
      "\u001b[0;31mKeyboardInterrupt\u001b[0m                         Traceback (most recent call last)",
      "\u001b[0;32m/tmp/ipykernel_34084/1807834454.py\u001b[0m in \u001b[0;36m<module>\u001b[0;34m\u001b[0m\n\u001b[1;32m     91\u001b[0m         \u001b[0mid_list\u001b[0m\u001b[0;34m.\u001b[0m\u001b[0mappend\u001b[0m\u001b[0;34m(\u001b[0m\u001b[0mid\u001b[0m\u001b[0;34m[\u001b[0m\u001b[0;34m:\u001b[0m\u001b[0;34m-\u001b[0m\u001b[0;36m1\u001b[0m\u001b[0;34m]\u001b[0m\u001b[0;34m)\u001b[0m\u001b[0;34m\u001b[0m\u001b[0;34m\u001b[0m\u001b[0m\n\u001b[1;32m     92\u001b[0m \u001b[0;34m\u001b[0m\u001b[0m\n\u001b[0;32m---> 93\u001b[0;31m \u001b[0mn_success\u001b[0m \u001b[0;34m=\u001b[0m \u001b[0mdownload_many_xml\u001b[0m\u001b[0;34m(\u001b[0m\u001b[0mid_list\u001b[0m\u001b[0;34m)\u001b[0m\u001b[0;34m\u001b[0m\u001b[0;34m\u001b[0m\u001b[0m\n\u001b[0m",
      "\u001b[0;32m/tmp/ipykernel_34084/1807834454.py\u001b[0m in \u001b[0;36mdownload_many_xml\u001b[0;34m(ids, max_workers)\u001b[0m\n\u001b[1;32m     75\u001b[0m \u001b[0;34m\u001b[0m\u001b[0m\n\u001b[1;32m     76\u001b[0m     \u001b[0;32mwith\u001b[0m \u001b[0mfutures\u001b[0m\u001b[0;34m.\u001b[0m\u001b[0mThreadPoolExecutor\u001b[0m\u001b[0;34m(\u001b[0m\u001b[0mmax_workers\u001b[0m\u001b[0;34m)\u001b[0m \u001b[0;32mas\u001b[0m \u001b[0mexec\u001b[0m\u001b[0;34m:\u001b[0m\u001b[0;34m\u001b[0m\u001b[0;34m\u001b[0m\u001b[0m\n\u001b[0;32m---> 77\u001b[0;31m         \u001b[0moutcomes\u001b[0m \u001b[0;34m=\u001b[0m \u001b[0mlist\u001b[0m\u001b[0;34m(\u001b[0m\u001b[0mexec\u001b[0m\u001b[0;34m.\u001b[0m\u001b[0mmap\u001b[0m\u001b[0;34m(\u001b[0m\u001b[0mdownload_single\u001b[0m\u001b[0;34m,\u001b[0m \u001b[0mids\u001b[0m\u001b[0;34m)\u001b[0m\u001b[0;34m)\u001b[0m\u001b[0;34m\u001b[0m\u001b[0;34m\u001b[0m\u001b[0m\n\u001b[0m\u001b[1;32m     78\u001b[0m \u001b[0;34m\u001b[0m\u001b[0m\n\u001b[1;32m     79\u001b[0m     \u001b[0;32mif\u001b[0m \u001b[0mverbose\u001b[0m\u001b[0;34m:\u001b[0m\u001b[0;34m\u001b[0m\u001b[0;34m\u001b[0m\u001b[0m\n",
      "\u001b[0;32m~/anaconda3/lib/python3.9/concurrent/futures/_base.py\u001b[0m in \u001b[0;36m__exit__\u001b[0;34m(self, exc_type, exc_val, exc_tb)\u001b[0m\n\u001b[1;32m    634\u001b[0m \u001b[0;34m\u001b[0m\u001b[0m\n\u001b[1;32m    635\u001b[0m     \u001b[0;32mdef\u001b[0m \u001b[0m__exit__\u001b[0m\u001b[0;34m(\u001b[0m\u001b[0mself\u001b[0m\u001b[0;34m,\u001b[0m \u001b[0mexc_type\u001b[0m\u001b[0;34m,\u001b[0m \u001b[0mexc_val\u001b[0m\u001b[0;34m,\u001b[0m \u001b[0mexc_tb\u001b[0m\u001b[0;34m)\u001b[0m\u001b[0;34m:\u001b[0m\u001b[0;34m\u001b[0m\u001b[0;34m\u001b[0m\u001b[0m\n\u001b[0;32m--> 636\u001b[0;31m         \u001b[0mself\u001b[0m\u001b[0;34m.\u001b[0m\u001b[0mshutdown\u001b[0m\u001b[0;34m(\u001b[0m\u001b[0mwait\u001b[0m\u001b[0;34m=\u001b[0m\u001b[0;32mTrue\u001b[0m\u001b[0;34m)\u001b[0m\u001b[0;34m\u001b[0m\u001b[0;34m\u001b[0m\u001b[0m\n\u001b[0m\u001b[1;32m    637\u001b[0m         \u001b[0;32mreturn\u001b[0m \u001b[0;32mFalse\u001b[0m\u001b[0;34m\u001b[0m\u001b[0;34m\u001b[0m\u001b[0m\n\u001b[1;32m    638\u001b[0m \u001b[0;34m\u001b[0m\u001b[0m\n",
      "\u001b[0;32m~/anaconda3/lib/python3.9/concurrent/futures/thread.py\u001b[0m in \u001b[0;36mshutdown\u001b[0;34m(self, wait, cancel_futures)\u001b[0m\n\u001b[1;32m    227\u001b[0m         \u001b[0;32mif\u001b[0m \u001b[0mwait\u001b[0m\u001b[0;34m:\u001b[0m\u001b[0;34m\u001b[0m\u001b[0;34m\u001b[0m\u001b[0m\n\u001b[1;32m    228\u001b[0m             \u001b[0;32mfor\u001b[0m \u001b[0mt\u001b[0m \u001b[0;32min\u001b[0m \u001b[0mself\u001b[0m\u001b[0;34m.\u001b[0m\u001b[0m_threads\u001b[0m\u001b[0;34m:\u001b[0m\u001b[0;34m\u001b[0m\u001b[0;34m\u001b[0m\u001b[0m\n\u001b[0;32m--> 229\u001b[0;31m                 \u001b[0mt\u001b[0m\u001b[0;34m.\u001b[0m\u001b[0mjoin\u001b[0m\u001b[0;34m(\u001b[0m\u001b[0;34m)\u001b[0m\u001b[0;34m\u001b[0m\u001b[0;34m\u001b[0m\u001b[0m\n\u001b[0m\u001b[1;32m    230\u001b[0m     \u001b[0mshutdown\u001b[0m\u001b[0;34m.\u001b[0m\u001b[0m__doc__\u001b[0m \u001b[0;34m=\u001b[0m \u001b[0m_base\u001b[0m\u001b[0;34m.\u001b[0m\u001b[0mExecutor\u001b[0m\u001b[0;34m.\u001b[0m\u001b[0mshutdown\u001b[0m\u001b[0;34m.\u001b[0m\u001b[0m__doc__\u001b[0m\u001b[0;34m\u001b[0m\u001b[0;34m\u001b[0m\u001b[0m\n",
      "\u001b[0;32m~/anaconda3/lib/python3.9/threading.py\u001b[0m in \u001b[0;36mjoin\u001b[0;34m(self, timeout)\u001b[0m\n\u001b[1;32m   1051\u001b[0m \u001b[0;34m\u001b[0m\u001b[0m\n\u001b[1;32m   1052\u001b[0m         \u001b[0;32mif\u001b[0m \u001b[0mtimeout\u001b[0m \u001b[0;32mis\u001b[0m \u001b[0;32mNone\u001b[0m\u001b[0;34m:\u001b[0m\u001b[0;34m\u001b[0m\u001b[0;34m\u001b[0m\u001b[0m\n\u001b[0;32m-> 1053\u001b[0;31m             \u001b[0mself\u001b[0m\u001b[0;34m.\u001b[0m\u001b[0m_wait_for_tstate_lock\u001b[0m\u001b[0;34m(\u001b[0m\u001b[0;34m)\u001b[0m\u001b[0;34m\u001b[0m\u001b[0;34m\u001b[0m\u001b[0m\n\u001b[0m\u001b[1;32m   1054\u001b[0m         \u001b[0;32melse\u001b[0m\u001b[0;34m:\u001b[0m\u001b[0;34m\u001b[0m\u001b[0;34m\u001b[0m\u001b[0m\n\u001b[1;32m   1055\u001b[0m             \u001b[0;31m# the behavior of a negative timeout isn't documented, but\u001b[0m\u001b[0;34m\u001b[0m\u001b[0;34m\u001b[0m\u001b[0m\n",
      "\u001b[0;32m~/anaconda3/lib/python3.9/threading.py\u001b[0m in \u001b[0;36m_wait_for_tstate_lock\u001b[0;34m(self, block, timeout)\u001b[0m\n\u001b[1;32m   1067\u001b[0m         \u001b[0;32mif\u001b[0m \u001b[0mlock\u001b[0m \u001b[0;32mis\u001b[0m \u001b[0;32mNone\u001b[0m\u001b[0;34m:\u001b[0m  \u001b[0;31m# already determined that the C code is done\u001b[0m\u001b[0;34m\u001b[0m\u001b[0;34m\u001b[0m\u001b[0m\n\u001b[1;32m   1068\u001b[0m             \u001b[0;32massert\u001b[0m \u001b[0mself\u001b[0m\u001b[0;34m.\u001b[0m\u001b[0m_is_stopped\u001b[0m\u001b[0;34m\u001b[0m\u001b[0;34m\u001b[0m\u001b[0m\n\u001b[0;32m-> 1069\u001b[0;31m         \u001b[0;32melif\u001b[0m \u001b[0mlock\u001b[0m\u001b[0;34m.\u001b[0m\u001b[0macquire\u001b[0m\u001b[0;34m(\u001b[0m\u001b[0mblock\u001b[0m\u001b[0;34m,\u001b[0m \u001b[0mtimeout\u001b[0m\u001b[0;34m)\u001b[0m\u001b[0;34m:\u001b[0m\u001b[0;34m\u001b[0m\u001b[0;34m\u001b[0m\u001b[0m\n\u001b[0m\u001b[1;32m   1070\u001b[0m             \u001b[0mlock\u001b[0m\u001b[0;34m.\u001b[0m\u001b[0mrelease\u001b[0m\u001b[0;34m(\u001b[0m\u001b[0;34m)\u001b[0m\u001b[0;34m\u001b[0m\u001b[0;34m\u001b[0m\u001b[0m\n\u001b[1;32m   1071\u001b[0m             \u001b[0mself\u001b[0m\u001b[0;34m.\u001b[0m\u001b[0m_stop\u001b[0m\u001b[0;34m(\u001b[0m\u001b[0;34m)\u001b[0m\u001b[0;34m\u001b[0m\u001b[0;34m\u001b[0m\u001b[0m\n",
      "\u001b[0;31mKeyboardInterrupt\u001b[0m: "
     ]
    },
    {
     "name": "stdout",
     "output_type": "stream",
     "text": [
      "ERROR: Rate limit exceeded\n",
      "ERROR: Rate limit exceeded\n",
      "ERROR: Rate limit exceeded\n",
      "ERROR: Rate limit exceeded\n"
     ]
    }
   ],
   "source": [
    "SUCCESS, SKIP, FAIL = 0, 1, 2\n",
    "\n",
    "BURST_WINDOW, BURST_MAX = 90, 20\n",
    "CRAWL_WINDOW, CRAWL_MAX = 15, 20\n",
    "\n",
    "def download_many_xml(ids: list[str], max_workers=4) -> int:\n",
    "    burst_times: list[float] = []\n",
    "    crawl_times: list[float] = []\n",
    "    burst_lock = Lock()\n",
    "    crawl_lock = Lock()\n",
    "\n",
    "    def record():\n",
    "        \"\"\"Record timestamp when request is made.\"\"\"\n",
    "        nonlocal burst_times, crawl_times\n",
    "        with burst_lock: burst_times.append(time.time())\n",
    "        with crawl_lock: crawl_times.append(time.time())\n",
    "    \n",
    "    def check_limits() -> tuple[float, float]:\n",
    "        \"\"\"Check rate limits and return required wait time if any.\"\"\"\n",
    "        nonlocal burst_times, crawl_times\n",
    "\n",
    "        # remove old timestamps\n",
    "        now = time.time()\n",
    "        burst_times = [t for t in burst_times if now - t < BURST_WINDOW]\n",
    "        crawl_times = [t for t in crawl_times if now - t < BURST_WINDOW]\n",
    "\n",
    "        # check burst limit\n",
    "        burst_wait = float(0)\n",
    "        with burst_lock:\n",
    "            now = time.time() # need to refresh since it might take time to get the lock\n",
    "            if len(burst_times) > BURST_MAX:\n",
    "                burst_wait = max(0, burst_times[0] + BURST_WINDOW - now)\n",
    "        \n",
    "        crawl_wait = float(0)\n",
    "        with crawl_lock:\n",
    "            now = time.time() # need to refresh since it might take time to get the lock\n",
    "            if len(burst_times) > BURST_MAX:\n",
    "                burst_wait = max(0, burst_times[0] + BURST_WINDOW - now)\n",
    "\n",
    "        return (burst_wait, crawl_wait)\n",
    "    \n",
    "    start = time.time()\n",
    "    if verbose:\n",
    "        print(f'Downloading xml for {len(ids)} page IDs')\n",
    "\n",
    "    def download_single(id: str):\n",
    "        if os.path.exists(f'{DATA_DIR}{XML_DIR}{id.replace(\"/\", \"\")}.xml'):\n",
    "            return SKIP\n",
    "    \n",
    "        wait_time = max(check_limits())\n",
    "        if wait_time > 0:\n",
    "            if verbose:\n",
    "                print(f'Rate limit reached; waiting {wait_time:.2f} seconds')\n",
    "            time.sleep(wait_time)\n",
    "\n",
    "        try:\n",
    "            record()\n",
    "            response = requests.get(f'{DATA_URL}{id}ocr.xml')\n",
    "            response.raise_for_status()\n",
    "        except requests.exceptions.HTTPError:\n",
    "            if response.status_code == 429:\n",
    "                print(f'ERROR: Rate limit exceeded for {DATA_URL}{id}ocr.xml')\n",
    "            else:\n",
    "                print(f'bad response for {DATA_URL}{id}ocr.xml: HTTP code', response.status_code)\n",
    "            return FAIL\n",
    "        \n",
    "        xml = ET.ElementTree(ET.fromstring(response.content))\n",
    "        ET.indent(xml, space=\"\\t\", level=0)\n",
    "\n",
    "        filename = id.replace('/', '')\n",
    "        with open(f'{DATA_DIR}{XML_DIR}{filename}.xml', 'w'): pass\n",
    "        xml.write(f'{DATA_DIR}{XML_DIR}{filename}.xml')\n",
    "\n",
    "        return SUCCESS\n",
    "    \n",
    "    with futures.ThreadPoolExecutor(max_workers) as exec:\n",
    "        outcomes = list(exec.map(download_single, ids))\n",
    "\n",
    "    if verbose:\n",
    "        print(\n",
    "            f'Processed {len(ids)} ids in {time.time() - start:.2f} seconds:',\n",
    "            f'{outcomes.count(SUCCESS)} downloaded,', \n",
    "            f'{outcomes.count(SKIP)} already present,', \n",
    "            f'{outcomes.count(FAIL)} failed'\n",
    "        )\n",
    "    return outcomes.count(SUCCESS) + outcomes.count(FAIL)\n",
    "\n",
    "id_list: list[str] = []\n",
    "with open(f'{DATA_DIR}{TXT_PATH}', 'r') as fp:\n",
    "    while(id := fp.readline()):\n",
    "        id_list.append(id[:-1])\n",
    "        \n",
    "n_success = download_many_xml(id_list)"
   ]
  },
  {
   "cell_type": "code",
   "execution_count": 16,
   "metadata": {},
   "outputs": [],
   "source": [
    "response = requests.get(\"https://chroniclingamerica.loc.gov//lccn/sn83030193/1914-11-19/ed-1/seq-4/ocr.xml\")"
   ]
  },
  {
   "cell_type": "code",
   "execution_count": 22,
   "metadata": {},
   "outputs": [
    {
     "name": "stdout",
     "output_type": "stream",
     "text": [
      "Date: Thu, 13 Feb 2025 06:41:26 GMT\n",
      "Content-Type: text/html; charset=UTF-8\n",
      "Content-Length: 8643\n",
      "Connection: close\n",
      "accept-ch: Sec-CH-UA-Bitness, Sec-CH-UA-Arch, Sec-CH-UA-Full-Version, Sec-CH-UA-Mobile, Sec-CH-UA-Model, Sec-CH-UA-Platform-Version, Sec-CH-UA-Full-Version-List, Sec-CH-UA-Platform, Sec-CH-UA, UA-Bitness, UA-Arch, UA-Full-Version, UA-Mobile, UA-Model, UA-Platform-Version, UA-Platform, UA\n",
      "critical-ch: Sec-CH-UA-Bitness, Sec-CH-UA-Arch, Sec-CH-UA-Full-Version, Sec-CH-UA-Mobile, Sec-CH-UA-Model, Sec-CH-UA-Platform-Version, Sec-CH-UA-Full-Version-List, Sec-CH-UA-Platform, Sec-CH-UA, UA-Bitness, UA-Arch, UA-Full-Version, UA-Mobile, UA-Model, UA-Platform-Version, UA-Platform, UA\n",
      "cross-origin-embedder-policy: require-corp\n",
      "cross-origin-opener-policy: same-origin\n",
      "cross-origin-resource-policy: same-origin\n",
      "origin-agent-cluster: ?1\n",
      "permissions-policy: accelerometer=(),autoplay=(),browsing-topics=(),camera=(),clipboard-read=(),clipboard-write=(),geolocation=(),gyroscope=(),hid=(),interest-cohort=(),magnetometer=(),microphone=(),payment=(),publickey-credentials-get=(),screen-wake-lock=(),serial=(),sync-xhr=(),usb=()\n",
      "referrer-policy: same-origin\n",
      "x-content-options: nosniff\n",
      "x-frame-options: SAMEORIGIN\n",
      "cf-mitigated: challenge\n",
      "server-timing: chlray;desc=\"9112d529be76d7af\"\n",
      "cf-chl-out: EE/f7XEhSr8u5k93a2QzeIldcfBLk7DxLtFEb8NDylrGvfmj9LK2tx2/DIEY/1jiSKzWNywBtkM18906vEgJIfnY2bCPfSkBs12DvSctvg0b7jU7BiITDA43bIbeV9F/gc3ohPc4mR7X6zl5riEAvw==$kMy8Rm6FkoJygUIsrmjTCA==\n",
      "Cache-Control: private, max-age=0, no-store, no-cache, must-revalidate, post-check=0, pre-check=0\n",
      "Expires: Thu, 01 Jan 1970 00:00:01 GMT\n",
      "Vary: Accept-Encoding\n",
      "Server: cloudflare\n",
      "CF-RAY: 9112d529be76d7af-LAX\n"
     ]
    }
   ],
   "source": [
    "for key, value in response.headers.items():\n",
    "    print(key, value, sep=\": \")"
   ]
  },
  {
   "cell_type": "code",
   "execution_count": 23,
   "metadata": {},
   "outputs": [
    {
     "data": {
      "text/plain": [
       "<Response [429]>"
      ]
     },
     "execution_count": 23,
     "metadata": {},
     "output_type": "execute_result"
    }
   ],
   "source": [
    "response"
   ]
  },
  {
   "cell_type": "code",
   "execution_count": null,
   "metadata": {},
   "outputs": [],
   "source": []
  }
 ],
 "metadata": {
  "kernelspec": {
   "display_name": "base",
   "language": "python",
   "name": "python3"
  },
  "language_info": {
   "codemirror_mode": {
    "name": "ipython",
    "version": 3
   },
   "file_extension": ".py",
   "mimetype": "text/x-python",
   "name": "python",
   "nbconvert_exporter": "python",
   "pygments_lexer": "ipython3",
   "version": "3.9.7"
  }
 },
 "nbformat": 4,
 "nbformat_minor": 2
}
