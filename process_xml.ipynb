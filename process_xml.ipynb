{
 "cells": [
  {
   "cell_type": "markdown",
   "metadata": {},
   "source": [
    "# OCR XML Processing\n",
    "This notebook shows the process of extracting relevant OCR information from the XML files downloaded in `load_data.ipynb` and explored in `explore_xml.ipynb`. The idea is to get the information we want into a more convenient format. For each XML file, we produce two auxiliary files: a text file containing each `TextBlock` as a continuous string and a JSON file containing information about bounding boxes."
   ]
  },
  {
   "cell_type": "markdown",
   "metadata": {},
   "source": [
    "## Imports"
   ]
  },
  {
   "cell_type": "code",
   "execution_count": 2,
   "metadata": {},
   "outputs": [],
   "source": [
    "from xml.etree import ElementTree as ET # for parsing XML\n",
    "from matplotlib import pyplot as plt    # for data visualization"
   ]
  },
  {
   "cell_type": "markdown",
   "metadata": {},
   "source": [
    "## Globals"
   ]
  },
  {
   "cell_type": "code",
   "execution_count": 5,
   "metadata": {},
   "outputs": [],
   "source": [
    "DATA_PATH = './data/'\n",
    "XML_DIR = 'xml/'\n",
    "TXT_DIR = 'txt/'\n",
    "JSON_DIR = 'json/'\n",
    "\n",
    "EX_PATH = './example_data/'\n",
    "EX_XML_PATH = f'{EX_PATH}lccnsn830302141906-04-20ed-1seq-1.xml'\n",
    "\n",
    "SCHEMA = '{http://schema.ccs-gmbh.com/ALTO}'"
   ]
  },
  {
   "cell_type": "markdown",
   "metadata": {},
   "source": [
    "## XML Processing"
   ]
  },
  {
   "cell_type": "code",
   "execution_count": 16,
   "metadata": {},
   "outputs": [
    {
     "data": {
      "text/plain": [
       "<Element '{http://schema.ccs-gmbh.com/ALTO}PrintSpace' at 0x7f8167dc3450>"
      ]
     },
     "execution_count": 16,
     "metadata": {},
     "output_type": "execute_result"
    }
   ],
   "source": [
    "def process_xml(filename, txt_dir, json_dir):\n",
    "    block_root: ET.Element = ET.parse(EX_XML_PATH).getroot() or ET.Element('')\n",
    "    for subtag in ('Layout', 'Page', 'PrintSpace'):\n",
    "        block_root = block_root.find(f'{SCHEMA}{subtag}') or ET.Element('')\n",
    "\n",
    "    with open(f'{txt_dir}{filename}.txt', 'w') as tfp, open(f'{json_dir}{filename}.json', 'w') as jfp:\n",
    "        for block in block_root.findall(f'{SCHEMA}TextBlock'):\n",
    "            for line in block.findall(f'{SCHEMA}TextLine'):\n",
    "                \n",
    "    \n",
    "    return block_root\n",
    "\n",
    "process_xml(EX_XML_PATH, './example_data/', './example_data')"
   ]
  },
  {
   "cell_type": "code",
   "execution_count": null,
   "metadata": {},
   "outputs": [],
   "source": []
  }
 ],
 "metadata": {
  "kernelspec": {
   "display_name": "base",
   "language": "python",
   "name": "python3"
  },
  "language_info": {
   "codemirror_mode": {
    "name": "ipython",
    "version": 3
   },
   "file_extension": ".py",
   "mimetype": "text/x-python",
   "name": "python",
   "nbconvert_exporter": "python",
   "pygments_lexer": "ipython3",
   "version": "3.9.7"
  }
 },
 "nbformat": 4,
 "nbformat_minor": 2
}
